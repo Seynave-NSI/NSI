{
 "cells": [
  {
   "cell_type": "markdown",
   "metadata": {},
   "source": [
    "# Matériel nécessaire\n",
    "\n",
    "C'est très léger mais indispensable :\n",
    "\n",
    "* stylo **noir** (utile pour scanner et corriger automatiquement vos QCM)\n",
    "* crayon à papier\n",
    "* gomme \n",
    "* règle\n",
    "* **BLOC NOTE format A4 dont les feuilles peuvent se détacher**. Ce bloc note sera **réservé exclusivement à la NSI**.\n",
    "* **Classeur** pour ranger les polycopiés distribués en classe\n",
    "\n",
    "<img src= \"img/blocNote.jpg\" width = 10%/>"
   ]
  }
 ],
 "metadata": {
  "kernelspec": {
   "display_name": "Python 3",
   "language": "python",
   "name": "python3"
  },
  "language_info": {
   "codemirror_mode": {
    "name": "ipython",
    "version": 3
   },
   "file_extension": ".py",
   "mimetype": "text/x-python",
   "name": "python",
   "nbconvert_exporter": "python",
   "pygments_lexer": "ipython3",
   "version": "3.7.2"
  }
 },
 "nbformat": 4,
 "nbformat_minor": 4
}
