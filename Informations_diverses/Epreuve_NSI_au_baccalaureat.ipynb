{
 "cells": [
  {
   "cell_type": "markdown",
   "metadata": {},
   "source": [
    "# Poids de la spécialité dans le baccalauréat\n",
    "\n",
    "## 2 cas de figures suivant que la spécialité est conservée ou non en terminale :\n",
    "\n",
    "1. **Abandon de la spécialité NSI en terminale :** La NSI est entièrement évaluée en contrôle continu (**coefficient 8/100**)\n",
    "\n",
    "\n",
    "2. **Conservation de la spécialité NSI en terminale :**\n",
    "    * Epreuve de spécialité en fin de terminale : **coefficient 16/100**. L'épreuve de plus gros coefficient !\n",
    "    * Epreuve de grand oral : **coefficient 10/100**\n",
    "\n",
    "## Calendrier des épreuves de NSI :\n",
    "\n",
    "* Epréuve de spécialité en fin de terminale : au troisième trimestre (en mars)\n",
    "* Epreuve de grand oral en fin de terminale : courant juin\n",
    "\n",
    "Plus d'informations et Sources : [Quandjepasselebac.education.fr](http://quandjepasselebac.education.fr/nouveau-lycee-1re-et-terminale-des-2019/)\n",
    "\n",
    "# Nature des épreuves terminales où intervient la spécialité NSI\n",
    "\n",
    "## Epreuves de NSI\n",
    "\n",
    "La note finale bacccalauréat (coef 16) de NSI est calculée à partir de l'épreuve écrite et de l'épreuve orale (épreuve de TP )\n",
    "\n",
    "$noteFinale = \\frac{écrit \\times 3 + pratique}{4}$\n",
    "\n",
    "### Epreuve écrite sur 20 points\n",
    "* Durée : 3h30\n",
    "* 2 Exercices sur notés sur 6 points et 1 exercice sur 8 points\n",
    "* Les trois rubriques suivantes sont systématiquement abordés au cours de l'épreuve: \n",
    "    * traitement de données en tables et **bases de données**\n",
    "    * **architectures matérielles**, **systèmes d'exploitation** et **réseaux**\n",
    "    * **algorithmique**, langages et **programmation**\n",
    "\n",
    "\n",
    "### Epreuve orale de TP sur 20 points\n",
    "\n",
    "* Durée : 1h\n",
    "* Uniquement de la programmation en Python\n",
    "* Banque de sujet publique et disponible [ici](https://eduscol.education.fr/2661/banque-des-epreuves-pratiques-de-specialite-nsi?menu_id=3324). Il est vivement recommandé de s'entraîner sur ces sujets régulièrement.\n",
    "* 2 Exercices de programmation sur ordinateur de 4 points chacun :\n",
    "    * Premier exercice sur un algorithme simple vu en classe, généralement facile et rapide pour ceux qui ont travaillé sérieusement. Très souvent, les connaissances requises pour cet exercice sont de niveau première\n",
    "    * Deuxième exercice : Un code python à compléter\n",
    "    \n",
    "[**Plus d'informations sur les épreuves de NSI en terminale**](https://www.education.gouv.fr/bo/20/Special2/MENE2001797N.htm)\n",
    "\n",
    "## Epreuve de grand oral\n",
    "\n",
    "* Durée : 20 minutes de préparation + 20 minutes d'oral\n",
    "* Le jury choisit une question parmi les deux questions proposées par le candidat. Ces questions portent sur les deux enseignements de spécialité suivies.\n",
    "\n",
    "[**Plus d'informations sur le grand oral**](https://www.education.gouv.fr/bo/20/Special2/MENE2002780N.htm?cid_bo=149115)"
   ]
  }
 ],
 "metadata": {
  "kernelspec": {
   "display_name": "Python 3 (ipykernel)",
   "language": "python",
   "name": "python3"
  },
  "language_info": {
   "codemirror_mode": {
    "name": "ipython",
    "version": 3
   },
   "file_extension": ".py",
   "mimetype": "text/x-python",
   "name": "python",
   "nbconvert_exporter": "python",
   "pygments_lexer": "ipython3",
   "version": "3.10.12"
  }
 },
 "nbformat": 4,
 "nbformat_minor": 4
}
