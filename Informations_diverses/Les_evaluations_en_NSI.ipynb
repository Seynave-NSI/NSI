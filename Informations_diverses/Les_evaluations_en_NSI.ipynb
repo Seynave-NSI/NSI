{
 "cells": [
  {
   "cell_type": "markdown",
   "metadata": {},
   "source": [
    "Les notes seront donc composées de :\n",
    "\n",
    "* **Devoirs surveillés**\n",
    "\n",
    "\n",
    "* **TP en totale autonomie**\n",
    "\n",
    "\n",
    "* **Projets** à réaliser (surtout en terminale après mars)\n",
    "\n",
    "* Avis aux spécialistes qui évitent les évaluations : **Tout élève absent (pour raisons valables ou non, ce n'est pas le problème) à une évaluation la rattrapera SYSTEMATIQUEMENT la prochaine fois qu'il revient en classe...**"
   ]
  }
 ],
 "metadata": {
  "kernelspec": {
   "display_name": "Python 3 (ipykernel)",
   "language": "python",
   "name": "python3"
  },
  "language_info": {
   "codemirror_mode": {
    "name": "ipython",
    "version": 3
   },
   "file_extension": ".py",
   "mimetype": "text/x-python",
   "name": "python",
   "nbconvert_exporter": "python",
   "pygments_lexer": "ipython3",
   "version": "3.10.12"
  }
 },
 "nbformat": 4,
 "nbformat_minor": 4
}
