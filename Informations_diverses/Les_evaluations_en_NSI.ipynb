{
 "cells": [
  {
   "cell_type": "markdown",
   "metadata": {},
   "source": [
    "> Depuis la réforme du lycée toutes vos notes comptent pour le bac dès la première. Vous êtes donc \"quasiment en évaluation permanente\"...\n",
    "\n",
    "Les notes seront donc composées de :\n",
    "\n",
    "* QCM (uniquement en première) puisque c'est le type d'épreuve en fin de première pour ceux qui abandonnent la spécialité NSI en terminale\n",
    "\n",
    "\n",
    "* Devoirs surveillés, ou des TP en totale autonomie, puisque c'est le type d'épreuves en fin de terminale\n",
    "\n",
    "\n",
    "* Projets à réaliser\n",
    "\n",
    "\n",
    "* Chaque fois qu'un travail est demandé (à la maison ou en classe) **je tire au sort** quelques élèves pour noter leur travail. Dans le cadre du travail réalisé à la maison, **la moyenne est garantie si TOUT l'exercice noté est fait, même s'il y a des erreurs. le zéro est garanti si le travail n'a pas été fait peu importe la raison** (\"je ne savais pas\", \"j'ai eu un problème d'ordinateur\", \"j'ai oublié\", \"j'ai pas compris\", \"je pouvais pas faire la suite car je suis bloqué à la question 3\" ou toutes les autres _\"bonnes\"_ raisons que les élèves ~~inventent~~ donnent). Dans le cas notamment du \"j'ai pas compris\" ou du \"je suis bloqué\", vous avez plusieurs jours pour vous entraider ou me contacter par mail à r.seynave59[at]gmail.com. Je consulte ce mail plusieurs fois par jour... Mais c'est sûr que je ne répondrai pas à un message reçu le soir pour un travail à faire pour le lendemain.\n",
    "\n",
    "\n",
    "> Pourquoi ce tirage au sort ? L'expérience montre que certains élèves ne travaillent pas du tout chez eux ou pas assez. (L'unique) but de ce tirage au sort est de vous _\"forcer\"_ à travailler puisque vous ne pouvez pas savoir à l'avance qui sera noté. Je rappelle la définition du hasard sur lequel se base le tirage au sort : le hasard est imprévisible, indépendant de ma volonté ou de la vôtre. Ainsi, il se peut qu'un élève soit tiré au sort plusieurs fois alors qu'un autre ne l'a jamais été. La statistique fera que pour chaque trimestre, les élèves auront globalement le même nombre de notes.\n",
    "\n",
    "\n",
    "* Avis aux spécialistes qui évitent les évaluations : **Tout élève absent (pour raisons valables ou non, ce n'est pas le problème) à une évaluation la rattrapera SYSTEMATIQUEMENT la prochaine fois qu'il revient en classe...**"
   ]
  }
 ],
 "metadata": {
  "kernelspec": {
   "display_name": "Python 3",
   "language": "python",
   "name": "python3"
  },
  "language_info": {
   "codemirror_mode": {
    "name": "ipython",
    "version": 3
   },
   "file_extension": ".py",
   "mimetype": "text/x-python",
   "name": "python",
   "nbconvert_exporter": "python",
   "pygments_lexer": "ipython3",
   "version": "3.7.2"
  }
 },
 "nbformat": 4,
 "nbformat_minor": 4
}
