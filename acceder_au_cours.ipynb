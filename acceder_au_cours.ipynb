{
 "cells": [
  {
   "cell_type": "markdown",
   "metadata": {},
   "source": [
    "## Accès au contenu pédagogique en classe \n",
    "\n",
    "* Se connecter en local sur votre machine avec vos identifiants :\n",
    "    * login : pnom\n",
    "    * mdp : votre date de naissance au format jjmmaaaa\n",
    "* Ouvrir l'explorateur de fichiers et cliquer sur *Autres emplacements*\n",
    "* Tapper `smb://snir2012/public2/`\n",
    "* Se connecter avec vos identifiants réseau (pas les identifiants de la machine) :\n",
    "    * login : p.nom\n",
    "    * mdp : ...\n",
    "* Copier **l'intégralité** du contenu du dossier `seynave` sur votre bureau `home/pnom`\n",
    "* Pour ouvrir les fichiers, ouvrir un terminal et tapper `jupyter notebook`\n",
    "* **Ne pas fermer le terminal !**\n",
    "\n",
    "## Accès au contenu pédagogique à la maison\n",
    "\n",
    "* Il faut préalablement installer *jupyter notebook* sur votre machine. [Informations ici](https://openclassrooms.com/fr/courses/4452741-decouvrez-les-librairies-python-pour-la-data-science/5559646-installez-jupyter-sur-votre-propre-ordinateur#r-5062358)\n",
    "\n",
    "* Télécharger **l'intégralité** des activités depuis github en format zip (voir ci-dessous)\n",
    "\n",
    "![Acceder_au_cours](img/zip.png)\n",
    "\n",
    "* Dezipper l'archive dans un répertoire dédié à vos cours\n",
    "\n",
    "* Comme en classe, ouvrir les cours avec *jupyter*"
   ]
  }
 ],
 "metadata": {
  "kernelspec": {
   "display_name": "Python 3",
   "language": "python",
   "name": "python3"
  },
  "language_info": {
   "codemirror_mode": {
    "name": "ipython",
    "version": 3
   },
   "file_extension": ".py",
   "mimetype": "text/x-python",
   "name": "python",
   "nbconvert_exporter": "python",
   "pygments_lexer": "ipython3",
   "version": "3.6.9"
  }
 },
 "nbformat": 4,
 "nbformat_minor": 2
}
